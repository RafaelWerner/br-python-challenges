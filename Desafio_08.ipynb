{
  "nbformat": 4,
  "nbformat_minor": 0,
  "metadata": {
    "anaconda-cloud": {},
    "kernelspec": {
      "display_name": "Python 3",
      "language": "python",
      "name": "python3"
    },
    "language_info": {
      "codemirror_mode": {
        "name": "ipython",
        "version": 3
      },
      "file_extension": ".py",
      "mimetype": "text/x-python",
      "name": "python",
      "nbconvert_exporter": "python",
      "pygments_lexer": "ipython3",
      "version": "3.6.5"
    },
    "colab": {
      "name": "Desafio 8.ipynb",
      "provenance": [],
      "toc_visible": true,
      "include_colab_link": true
    }
  },
  "cells": [
    {
      "cell_type": "markdown",
      "metadata": {
        "id": "view-in-github",
        "colab_type": "text"
      },
      "source": [
        "<a href=\"https://colab.research.google.com/github/RafaelWerner/br-python-challenges/blob/master/Desafio_08.ipynb\" target=\"_parent\"><img src=\"https://colab.research.google.com/assets/colab-badge.svg\" alt=\"Open In Colab\"/></a>"
      ]
    },
    {
      "cell_type": "markdown",
      "metadata": {
        "id": "o3tkeMDNf6Jo"
      },
      "source": [
        "### Desafio 8\n",
        "\n",
        "Escreva um script Python para encontrar as 10 palavras mais longas em um arquivo.\n",
        "\n",
        "O arquivo TXT está localizado na mesma pasta do projeto (texto.txt)."
      ]
    },
    {
      "cell_type": "code",
      "metadata": {
        "id": "EknxjSG0f6Jo",
        "colab": {
          "base_uri": "https://localhost:8080/"
        },
        "outputId": "555acd48-3592-4885-b88b-e16430ff145d"
      },
      "source": [
        "# Seu código\n",
        "!wget https://raw.githubusercontent.com/RafaelWerner/br-python-challenges/master/texto.txt"
      ],
      "execution_count": 1,
      "outputs": [
        {
          "output_type": "stream",
          "text": [
            "--2020-11-26 22:51:43--  https://raw.githubusercontent.com/RafaelWerner/br-python-challenges/master/texto.txt\n",
            "Resolving raw.githubusercontent.com (raw.githubusercontent.com)... 151.101.0.133, 151.101.64.133, 151.101.128.133, ...\n",
            "Connecting to raw.githubusercontent.com (raw.githubusercontent.com)|151.101.0.133|:443... connected.\n",
            "HTTP request sent, awaiting response... 200 OK\n",
            "Length: 766 [text/plain]\n",
            "Saving to: ‘texto.txt’\n",
            "\n",
            "texto.txt           100%[===================>]     766  --.-KB/s    in 0s      \n",
            "\n",
            "2020-11-26 22:51:43 (36.1 MB/s) - ‘texto.txt’ saved [766/766]\n",
            "\n"
          ],
          "name": "stdout"
        }
      ]
    },
    {
      "cell_type": "code",
      "metadata": {
        "id": "ZYbqEWBG5nKx",
        "colab": {
          "base_uri": "https://localhost:8080/"
        },
        "outputId": "b5c099c2-772e-4bb2-eac4-ef62f3760aca"
      },
      "source": [
        "import regex\n",
        "\n",
        "with open(\"texto.txt\") as file:\n",
        "   texto = file.read().splitlines()\n",
        "texto = ' '.join(texto)\n",
        "texto = regex.sub('[\\.\\,\\(\\)\\?]+', ' ', texto)\n",
        "\n",
        "palavras = texto.split()\n",
        "placar = {}\n",
        "for palavra in palavras:\n",
        "    tamanho = len(palavra)\n",
        "    if tamanho in placar:\n",
        "      placar[tamanho]['ocorrencias'].append(palavra)\n",
        "    else:\n",
        "      placar[tamanho] = {'ocorrencias': [palavra]}\n",
        "\n",
        "maiores = sorted(placar, reverse=True)\n",
        "\n",
        "final = []\n",
        "for i in range(0, 10):\n",
        "   final = final + placar[maiores[i]]['ocorrencias']\n",
        "\n",
        "for i in range(0, 10):\n",
        "  print(final[i])"
      ],
      "execution_count": 52,
      "outputs": [
        {
          "output_type": "stream",
          "text": [
            "general-purpose\n",
            "object-oriented\n",
            "comprehensive\n",
            "intermediate\n",
            "interpreted\n",
            "programming\n",
            "readability\n",
            "programmers\n",
            "programming\n",
            "programming\n"
          ],
          "name": "stdout"
        }
      ]
    },
    {
      "cell_type": "code",
      "metadata": {
        "id": "-istzF7k4OA1"
      },
      "source": [
        ""
      ],
      "execution_count": null,
      "outputs": []
    }
  ]
}